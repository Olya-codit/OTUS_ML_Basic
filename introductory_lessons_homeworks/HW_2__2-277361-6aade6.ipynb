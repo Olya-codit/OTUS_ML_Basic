{
 "cells": [
  {
   "cell_type": "markdown",
   "id": "f80d27ad",
   "metadata": {},
   "source": [
    "### Задача 1: Сумма цифр до однозначного числа\n",
    "\n",
    "\n",
    "#### Описание задачи:\n",
    "\n",
    "\n",
    "Нужно складывать все цифры числа, пока не останется только одна цифра.\n",
    "\n",
    "#### Решение:\n",
    "\n",
    "Для этой задачи будем использовать цикл, который будет складывать цифры числа до тех пор, пока число не станет однозначным."
   ]
  },
  {
   "cell_type": "code",
   "execution_count": 2,
   "id": "74988832",
   "metadata": {},
   "outputs": [
    {
     "name": "stdout",
     "output_type": "stream",
     "text": [
      "Введите число: 123\n",
      "Результат: 6\n"
     ]
    }
   ],
   "source": [
    "def sum_to_single_digit(number):\n",
    "    while number >= 10:  # продолжаем, пока число не станет однозначным\n",
    "        number = sum(int(digit) for digit in str(number))\n",
    "    return number\n",
    "\n",
    "# Пользовательский ввод\n",
    "number = int(input(\"Введите число: \"))\n",
    "print(f\"Результат: {sum_to_single_digit(number)}\")"
   ]
  },
  {
   "cell_type": "markdown",
   "id": "5b82886b",
   "metadata": {},
   "source": [
    "### Задача 2: Кинотеатр\n",
    "\n",
    "#### Описание задачи:\n",
    "\n",
    "Дан список списков, представляющий ряды в кинотеатре, и количество требуемых билетов. Нужно найти ряд, в котором есть нужное количество билетов подряд.\n",
    "\n",
    "#### Решение:\n",
    "\n",
    "Пробежимся по каждому ряду и проверим, есть ли в нём требуемое количество подряд идущих нулей (свободных мест)."
   ]
  },
  {
   "cell_type": "code",
   "execution_count": 5,
   "id": "1d516f9a",
   "metadata": {},
   "outputs": [
    {
     "name": "stdout",
     "output_type": "stream",
     "text": [
      "1\n",
      "False\n"
     ]
    }
   ],
   "source": [
    "# старое решение, без ввода от самого пользователя\n",
    "def find_seats(cinema, tickets):\n",
    "    for row_index, row in enumerate(cinema):\n",
    "        consecutive_zeros = 0\n",
    "        for seat in row:\n",
    "            if seat == 0:\n",
    "                consecutive_zeros += 1\n",
    "                if consecutive_zeros == tickets:\n",
    "                    return row_index\n",
    "            else:\n",
    "                consecutive_zeros = 0\n",
    "    return False\n",
    "\n",
    "# Примеры использования\n",
    "print(find_seats([[0,1,1,0], [1, 0, 0, 0], [0,1,0,0]], 2))  # 1\n",
    "print(find_seats([[0,1,1,0], [1, 0, 1, 0], [1,1,0,1]], 2))  # False"
   ]
  },
  {
   "cell_type": "code",
   "execution_count": 4,
   "id": "7030a756",
   "metadata": {},
   "outputs": [
    {
     "name": "stdout",
     "output_type": "stream",
     "text": [
      "Введите количество рядов: 1\n",
      "Введите ряд 1 через пробел (0 - свободно, 1 - занято): 0 1 1 0 0\n",
      "Введите количество билетов: 2\n",
      "Результат: Ряд 1\n"
     ]
    }
   ],
   "source": [
    "def find_seats(cinema, tickets):\n",
    "    for row_index, row in enumerate(cinema):\n",
    "        consecutive_zeros = 0\n",
    "        for seat in row:\n",
    "            if seat == 0:\n",
    "                consecutive_zeros += 1\n",
    "                if consecutive_zeros == tickets:\n",
    "                    return row_index\n",
    "            else:\n",
    "                consecutive_zeros = 0\n",
    "    return False\n",
    "\n",
    "# Пользовательский ввод\n",
    "rows = int(input(\"Введите количество рядов: \"))\n",
    "cinema = []\n",
    "for i in range(rows):\n",
    "    cinema.append(list(map(int, input(f\"Введите ряд {i + 1} через пробел (0 - свободно, 1 - занято): \").split())))\n",
    "tickets = int(input(\"Введите количество билетов: \"))\n",
    "result = find_seats(cinema, tickets)\n",
    "print(f\"Результат: {'Ряд ' + str(result + 1) if result is not False else 'Нет мест'}\")"
   ]
  },
  {
   "cell_type": "markdown",
   "id": "3b81d8bd",
   "metadata": {},
   "source": [
    "### Задача 3: Упрощенная версия алгоритма RLE\n",
    "\n",
    "\n",
    "#### Описание задачи:\n",
    "\n",
    "Сжать строку, используя алгоритм RLE (Run Length Encoding), где повторяющиеся символы заменяются числом и самим символом.\n",
    "\n",
    "#### Решение:\n",
    "\n",
    "Пройдем по строке, считая повторяющиеся символы и формируя сжатую строку."
   ]
  },
  {
   "cell_type": "code",
   "execution_count": 6,
   "id": "2c8dd2bb",
   "metadata": {},
   "outputs": [
    {
     "name": "stdout",
     "output_type": "stream",
     "text": [
      "3a4b5c\n",
      "1a3s3d3s3d\n",
      "1a1b1c1b1a\n"
     ]
    }
   ],
   "source": [
    "# старое решение, без ввода от самого пользователя\n",
    "def rle_encode(data):\n",
    "    if not data:\n",
    "        return \"\"\n",
    "    \n",
    "    encoded_str = \"\"\n",
    "    current_char = data[0]\n",
    "    count = 1\n",
    "    \n",
    "    for char in data[1:]:\n",
    "        if char == current_char:\n",
    "            count += 1\n",
    "        else:\n",
    "            encoded_str += str(count) + current_char\n",
    "            current_char = char\n",
    "            count = 1\n",
    "    encoded_str += str(count) + current_char\n",
    "    return encoded_str\n",
    "\n",
    "# Примеры использования\n",
    "print(rle_encode(\"aaabbbbccccc\"))   # 3a4b5c\n",
    "print(rle_encode(\"asssdddsssddd\"))  # 1a3s3d3s3d\n",
    "print(rle_encode(\"abcba\"))          # 1a1b1c1b1a"
   ]
  },
  {
   "cell_type": "code",
   "execution_count": 7,
   "id": "ee1726a0",
   "metadata": {},
   "outputs": [
    {
     "name": "stdout",
     "output_type": "stream",
     "text": [
      "Введите строку для сжатия: aaabbbbccccc\n",
      "Сжатая строка: 3a4b5c\n"
     ]
    }
   ],
   "source": [
    "def rle_encode(data):\n",
    "    if not data:\n",
    "        return \"\"\n",
    "    \n",
    "    encoded_str = \"\"\n",
    "    current_char = data[0]\n",
    "    count = 1\n",
    "    \n",
    "    for char in data[1:]:\n",
    "        if char == current_char:\n",
    "            count += 1\n",
    "        else:\n",
    "            encoded_str += str(count) + current_char\n",
    "            current_char = char\n",
    "            count = 1\n",
    "    encoded_str += str(count) + current_char\n",
    "    return encoded_str\n",
    "\n",
    "# Пользовательский ввод\n",
    "data = input(\"Введите строку для сжатия: \")\n",
    "print(f\"Сжатая строка: {rle_encode(data)}\")"
   ]
  },
  {
   "cell_type": "markdown",
   "id": "749291df",
   "metadata": {},
   "source": [
    "### Задача 4: Шифр Цезаря\n",
    "\n",
    "#### Описание задачи:\n",
    "\n",
    "Реализовать шифр Цезаря, где каждый символ строки сдвигается на определенное количество позиций по алфавиту.\n",
    "\n",
    "#### Решение:\n",
    "\n",
    "Пройдем по строке, сдвигая каждую букву по алфавиту на заданное количество позиций."
   ]
  },
  {
   "cell_type": "code",
   "execution_count": 4,
   "id": "0329f706",
   "metadata": {},
   "outputs": [
    {
     "name": "stdout",
     "output_type": "stream",
     "text": [
      "Fqi\n",
      "Cdn cdn\n",
      "Udymts nx ymj GJXY\n"
     ]
    }
   ],
   "source": [
    "# старое решение, без ввода от самого пользователя\n",
    "def caesar_cipher(text, shift):\n",
    "    result = \"\"\n",
    "    for char in text:\n",
    "        if char.isalpha():  # шифруем только буквы\n",
    "            shift_base = ord('A') if char.isupper() else ord('a')\n",
    "            result += chr((ord(char) - shift_base + shift) % 26 + shift_base)\n",
    "        else:\n",
    "            result += char  # не шифруем пробелы и другие символы\n",
    "    return result\n",
    "\n",
    "# Примеры использования\n",
    "print(caesar_cipher(\"Dog\", 2))            # Fqi\n",
    "print(caesar_cipher(\"Zak zak\", 3))        # Cdn cdn\n",
    "print(caesar_cipher(\"Python is the BEST\", 5))  # Udymts nx ymj GJXY"
   ]
  },
  {
   "cell_type": "code",
   "execution_count": 9,
   "id": "f4d529bc",
   "metadata": {},
   "outputs": [
    {
     "name": "stdout",
     "output_type": "stream",
     "text": [
      "Введите текст для шифрования: Dog\n",
      "Введите сдвиг: 2\n",
      "Зашифрованный текст: Fqi\n"
     ]
    }
   ],
   "source": [
    "def caesar_cipher(text, shift):\n",
    "    result = \"\"\n",
    "    for char in text:\n",
    "        if char.isalpha():  # шифруем только буквы\n",
    "            shift_base = ord('A') if char.isupper() else ord('a')\n",
    "            result += chr((ord(char) - shift_base + shift) % 26 + shift_base)\n",
    "        else:\n",
    "            result += char  # не шифруем пробелы и другие символы\n",
    "    return result\n",
    "\n",
    "# Пользовательский ввод\n",
    "text = input(\"Введите текст для шифрования: \")\n",
    "shift = int(input(\"Введите сдвиг: \"))\n",
    "print(f\"Зашифрованный текст: {caesar_cipher(text, shift)}\")"
   ]
  },
  {
   "cell_type": "markdown",
   "id": "5d562f38",
   "metadata": {},
   "source": [
    "### Задача 5: Табель успеваемости\n",
    "\n",
    "#### Описание задачи:\n",
    "\n",
    "Вводить строки с информацией об оценках и формировать таблицу успеваемости.\n",
    "\n",
    "#### Решение:\n",
    "\n",
    "Используем словарь, чтобы сгруппировать информацию по предметам и ученикам. Затем выводим данные в удобном формате."
   ]
  },
  {
   "cell_type": "code",
   "execution_count": 5,
   "id": "9a388e3d",
   "metadata": {},
   "outputs": [
    {
     "name": "stdout",
     "output_type": "stream",
     "text": [
      "Введите строку (пустая строка для окончания): Математика Иванов 5\n",
      "Введите строку (пустая строка для окончания): \n",
      "Математика\n",
      "Иванов 5\n"
     ]
    }
   ],
   "source": [
    "# старое решение\n",
    "def grade_report():\n",
    "    grades = {}\n",
    "    while True:\n",
    "        data = input(\"Введите строку (пустая строка для окончания): \")\n",
    "        if not data:\n",
    "            break\n",
    "        subject, student, grade = data.split()\n",
    "        if subject not in grades:\n",
    "            grades[subject] = {}\n",
    "        if student not in grades[subject]:\n",
    "            grades[subject][student] = []\n",
    "        grades[subject][student].append(grade)\n",
    "\n",
    "    for subject, students in grades.items():\n",
    "        print(subject)\n",
    "        for student, student_grades in students.items():\n",
    "            print(student, ' '.join(student_grades))\n",
    "\n",
    "# Пример использования\n",
    "grade_report()"
   ]
  },
  {
   "cell_type": "code",
   "execution_count": 10,
   "id": "eb7ce3b7",
   "metadata": {},
   "outputs": [
    {
     "name": "stdout",
     "output_type": "stream",
     "text": [
      "Введите строку (предмет, студент, оценка; пустая строка для окончания): Математика Иванов 5\n",
      "Введите строку (предмет, студент, оценка; пустая строка для окончания): \n",
      "Математика\n",
      "Иванов 5\n"
     ]
    }
   ],
   "source": [
    "def grade_report():\n",
    "    grades = {}\n",
    "    while True:\n",
    "        try:\n",
    "            data = input(\"Введите строку (предмет, студент, оценка; пустая строка для окончания): \")\n",
    "            if not data:\n",
    "                break\n",
    "            subject, student, grade = data.split()\n",
    "            if subject not in grades:\n",
    "                grades[subject] = {}\n",
    "            if student not in grades[subject]:\n",
    "                grades[subject][student] = []\n",
    "            grades[subject][student].append(grade)\n",
    "        except ValueError:\n",
    "            print(\"Ошибка ввода. Убедитесь, что строка содержит три значения (предмет, студент, оценка).\")\n",
    "    \n",
    "    for subject, students in grades.items():\n",
    "        print(subject)\n",
    "        for student, student_grades in students.items():\n",
    "            print(student, ' '.join(student_grades))\n",
    "\n",
    "# Запуск функции\n",
    "grade_report()\n"
   ]
  },
  {
   "cell_type": "markdown",
   "id": "da23f3c8",
   "metadata": {},
   "source": [
    "***"
   ]
  }
 ],
 "metadata": {
  "kernelspec": {
   "display_name": "Python 3 (ipykernel)",
   "language": "python",
   "name": "python3"
  },
  "language_info": {
   "codemirror_mode": {
    "name": "ipython",
    "version": 3
   },
   "file_extension": ".py",
   "mimetype": "text/x-python",
   "name": "python",
   "nbconvert_exporter": "python",
   "pygments_lexer": "ipython3",
   "version": "3.9.7"
  }
 },
 "nbformat": 4,
 "nbformat_minor": 5
}
