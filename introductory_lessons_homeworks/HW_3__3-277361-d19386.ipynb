{
 "cells": [
  {
   "cell_type": "markdown",
   "id": "1a9ab190",
   "metadata": {},
   "source": [
    "### Задача 1: Перевод из snake_case в CamelCase и наоборот\n",
    "\n",
    "#### Описание задачи:\n",
    "\n",
    "Функция должна принимать строку в формате snake_case или CamelCase и конвертировать её в другой формат. Можно добавить ключевой аргумент, который будет принудительно возвращать один из форматов.\n",
    "\n",
    "#### Решение:\n",
    "\n",
    "Для определения формата строки можно проверить, содержит ли она символы подчеркивания (_) или символы в верхнем регистре."
   ]
  },
  {
   "cell_type": "code",
   "execution_count": 1,
   "id": "87ce1da7",
   "metadata": {},
   "outputs": [
    {
     "name": "stdout",
     "output_type": "stream",
     "text": [
      "OtusCourse\n",
      "python_is_the_best\n",
      "python_is_the_best\n",
      "OtusCourse\n"
     ]
    }
   ],
   "source": [
    "#old code\n",
    "def convert_case(text, to_format=None):\n",
    "    if to_format is None:\n",
    "        # Определение формата\n",
    "        if \"_\" in text:\n",
    "            to_format = 'camel'\n",
    "        else:\n",
    "            to_format = 'snake'\n",
    "    \n",
    "    if to_format == 'camel':\n",
    "        # Преобразуем из snake_case в CamelCase\n",
    "        parts = text.split('_')\n",
    "        return ''.join(word.capitalize() for word in parts)\n",
    "    elif to_format == 'snake':\n",
    "        # Преобразуем из CamelCase в snake_case\n",
    "        snake_case = ''\n",
    "        for char in text:\n",
    "            if char.isupper():\n",
    "                snake_case += '_' + char.lower()\n",
    "            else:\n",
    "                snake_case += char\n",
    "        return snake_case.lstrip('_')  # Убираем начальное подчеркивание, если оно есть\n",
    "\n",
    "# Примеры использования\n",
    "print(convert_case(\"otus_course\"))         # OtusCourse\n",
    "print(convert_case(\"PythonIsTheBest\"))     # python_is_the_best\n",
    "print(convert_case(\"PythonIsTheBest\", \"snake\"))  # python_is_the_best\n",
    "print(convert_case(\"otus_course\", \"camel\"))      # OtusCourse"
   ]
  },
  {
   "cell_type": "code",
   "execution_count": 1,
   "id": "f193e8e2",
   "metadata": {},
   "outputs": [
    {
     "name": "stdout",
     "output_type": "stream",
     "text": [
      "Введите строку: otus_course\n",
      "Введите желаемый формат ('camel' или 'snake'): camel\n",
      "Результат: OtusCourse\n"
     ]
    }
   ],
   "source": [
    "# new code\n",
    "\n",
    "def convert_case(text, to_format=None):\n",
    "    if to_format is None:\n",
    "        # Определение формата\n",
    "        if \"_\" in text:\n",
    "            to_format = 'camel'\n",
    "        else:\n",
    "            to_format = 'snake'\n",
    "    \n",
    "    if to_format == 'camel':\n",
    "        # Преобразуем из snake_case в CamelCase\n",
    "        parts = text.split('_')\n",
    "        return ''.join(word.capitalize() for word in parts)\n",
    "    elif to_format == 'snake':\n",
    "        # Преобразуем из CamelCase в snake_case\n",
    "        snake_case = ''\n",
    "        for char in text:\n",
    "            if char.isupper():\n",
    "                snake_case += '_' + char.lower()\n",
    "            else:\n",
    "                snake_case += char\n",
    "        return snake_case.lstrip('_')  # Убираем начальное подчеркивание, если оно есть\n",
    "\n",
    "# Пользовательский ввод\n",
    "text = input(\"Введите строку: \")\n",
    "format_option = input(\"Введите желаемый формат ('camel' или 'snake'): \").strip().lower()\n",
    "print(f\"Результат: {convert_case(text, format_option)}\")\n"
   ]
  },
  {
   "cell_type": "markdown",
   "id": "f7e75d83",
   "metadata": {},
   "source": [
    "### Задача 2: Проверка валидности введенной даты\n",
    "\n",
    "#### Описание задачи:\n",
    "\n",
    "Функция должна проверять, является ли введенная дата валидной (с учетом високосных лет и количества дней в каждом месяце).\n",
    "\n",
    "#### Решение:\n",
    "\n",
    "Используем правила для проверки каждого компонента даты и определяем, является ли год високосным."
   ]
  },
  {
   "cell_type": "code",
   "execution_count": 2,
   "id": "89f9e1fc",
   "metadata": {},
   "outputs": [
    {
     "name": "stdout",
     "output_type": "stream",
     "text": [
      "True\n",
      "False\n",
      "False\n"
     ]
    }
   ],
   "source": [
    "# old code\n",
    "def is_valid_date(date):\n",
    "    day, month, year = map(int, date.split('.'))\n",
    "    \n",
    "    # Проверка на допустимый год\n",
    "    if year < 1:\n",
    "        return False\n",
    "    \n",
    "    # Проверка на допустимый месяц\n",
    "    if month < 1 or month > 12:\n",
    "        return False\n",
    "\n",
    "    # Проверка на високосный год\n",
    "    def is_leap_year(year):\n",
    "        return year % 4 == 0 and (year % 100 != 0 or year % 400 == 0)\n",
    "\n",
    "    # Определение количества дней в месяце\n",
    "    days_in_month = [31, 29 if is_leap_year(year) else 28, 31, 30, 31, 30, 31, 31, 30, 31, 30, 31]\n",
    "    \n",
    "    # Проверка на допустимый день\n",
    "    if day < 1 or day > days_in_month[month - 1]:\n",
    "        return False\n",
    "\n",
    "    return True\n",
    "\n",
    "# Примеры использования\n",
    "print(is_valid_date(\"29.02.2000\"))  # True\n",
    "print(is_valid_date(\"29.02.2001\"))  # False\n",
    "print(is_valid_date(\"31.04.1962\"))  # False\n"
   ]
  },
  {
   "cell_type": "code",
   "execution_count": 2,
   "id": "f7211125",
   "metadata": {},
   "outputs": [
    {
     "name": "stdout",
     "output_type": "stream",
     "text": [
      "Введите дату в формате DD.MM.YYYY: 29.02.2000\n",
      "Дата валидна.\n"
     ]
    }
   ],
   "source": [
    "# new code\n",
    "\n",
    "def is_valid_date(date):\n",
    "    day, month, year = map(int, date.split('.'))\n",
    "    \n",
    "    # Проверка на допустимый год\n",
    "    if year < 1:\n",
    "        return False\n",
    "    \n",
    "    # Проверка на допустимый месяц\n",
    "    if month < 1 or month > 12:\n",
    "        return False\n",
    "\n",
    "    # Проверка на високосный год\n",
    "    def is_leap_year(year):\n",
    "        return year % 4 == 0 and (year % 100 != 0 or year % 400 == 0)\n",
    "\n",
    "    # Определение количества дней в месяце\n",
    "    days_in_month = [31, 29 if is_leap_year(year) else 28, 31, 30, 31, 30, 31, 31, 30, 31, 30, 31]\n",
    "    \n",
    "    # Проверка на допустимый день\n",
    "    if day < 1 or day > days_in_month[month - 1]:\n",
    "        return False\n",
    "\n",
    "    return True\n",
    "\n",
    "# Пользовательский ввод\n",
    "date_input = input(\"Введите дату в формате DD.MM.YYYY: \")\n",
    "if is_valid_date(date_input):\n",
    "    print(\"Дата валидна.\")\n",
    "else:\n",
    "    print(\"Дата невалидна.\")"
   ]
  },
  {
   "cell_type": "markdown",
   "id": "9873e69f",
   "metadata": {},
   "source": [
    "### Задача 3: Проверка на простое число\n",
    "\n",
    "#### Описание задачи:\n",
    "\n",
    "Функция должна проверять, является ли введенное число простым.\n",
    "\n",
    "#### Решение:\n",
    "\n",
    "Простое число делится только на 1 и на само себя. Если число больше 1 и не делится на числа от 2 до квадратного корня этого числа, то оно является простым."
   ]
  },
  {
   "cell_type": "code",
   "execution_count": 3,
   "id": "9ebe4090",
   "metadata": {},
   "outputs": [
    {
     "name": "stdout",
     "output_type": "stream",
     "text": [
      "True\n",
      "False\n",
      "True\n"
     ]
    }
   ],
   "source": [
    "# old code\n",
    "\n",
    "def is_prime(n):\n",
    "    if n <= 1:\n",
    "        return False\n",
    "    for i in range(2, int(n**0.5) + 1):\n",
    "        if n % i == 0:\n",
    "            return False\n",
    "    return True\n",
    "\n",
    "# Примеры использования\n",
    "print(is_prime(17))  # True\n",
    "print(is_prime(20))  # False\n",
    "print(is_prime(23))  # True"
   ]
  },
  {
   "cell_type": "code",
   "execution_count": 3,
   "id": "b46ecd3c",
   "metadata": {},
   "outputs": [
    {
     "name": "stdout",
     "output_type": "stream",
     "text": [
      "Введите число: 20\n",
      "20 не является простым числом.\n"
     ]
    }
   ],
   "source": [
    "# new code\n",
    "\n",
    "def is_prime(n):\n",
    "    if n <= 1:\n",
    "        return False\n",
    "    for i in range(2, int(n**0.5) + 1):\n",
    "        if n % i == 0:\n",
    "            return False\n",
    "    return True\n",
    "\n",
    "# Пользовательский ввод\n",
    "number = int(input(\"Введите число: \"))\n",
    "if is_prime(number):\n",
    "    print(f\"{number} является простым числом.\")\n",
    "else:\n",
    "    print(f\"{number} не является простым числом.\")"
   ]
  },
  {
   "cell_type": "markdown",
   "id": "68d2b5f5",
   "metadata": {},
   "source": [
    "### Задача 4: Ввод данных пользователей\n",
    "\n",
    "#### Описание задачи:\n",
    "\n",
    "В бесконечном цикле пользователь вводит данные (имя, фамилия, возраст и ID). Данные проверяются на валидность и сохраняются в словарь. Также, выводится таблица с данными пользователей.\n",
    "\n",
    "#### Решение:\n",
    "\n",
    "Будем использовать цикл для ввода данных и проверки их на валидность, а также словарь для хранения данных. Затем выведем данные в табличной форме."
   ]
  },
  {
   "cell_type": "code",
   "execution_count": 4,
   "id": "b172d4b6",
   "metadata": {},
   "outputs": [
    {
     "name": "stdout",
     "output_type": "stream",
     "text": [
      "Введите данные пользователя (имя, фамилия, возраст, ID) или пустую строку для окончания: Иван Иванов 30 123\n",
      "Введите данные пользователя (имя, фамилия, возраст, ID) или пустую строку для окончания: Анна Петрова 25 4567\n",
      "Введите данные пользователя (имя, фамилия, возраст, ID) или пустую строку для окончания: Михаил Сидоров 35 00001234\n",
      "Введите данные пользователя (имя, фамилия, возраст, ID) или пустую строку для окончания: Александр Козлов 17 87654321 # Недопустимый возраст\n",
      "Неправильный формат ввода. Попробуйте снова.\n",
      "Введите данные пользователя (имя, фамилия, возраст, ID) или пустую строку для окончания: \n",
      "ID         Имя        Фамилия    Возраст   \n",
      "00000123   Иван       Иванов     30        \n",
      "00004567   Анна       Петрова    25        \n",
      "00001234   Михаил     Сидоров    35        \n"
     ]
    }
   ],
   "source": [
    "# old code - уже работает с инпутом пользователя\n",
    "\n",
    "def collect_user_data():\n",
    "    users = {}\n",
    "\n",
    "    while True:\n",
    "        data = input(\"Введите данные пользователя (имя, фамилия, возраст, ID) или пустую строку для окончания: \")\n",
    "        if not data.strip():\n",
    "            break\n",
    "\n",
    "        try:\n",
    "            name, surname, age, user_id = data.split()\n",
    "\n",
    "            # Проверка имени и фамилии\n",
    "            if not name.isalpha() or not surname.isalpha():\n",
    "                print(\"Имя и фамилия должны состоять только из букв!\")\n",
    "                continue\n",
    "\n",
    "            # Проверка возраста\n",
    "            age = int(age)\n",
    "            if not (18 <= age <= 60):\n",
    "                print(\"Возраст должен быть числом от 18 до 60!\")\n",
    "                continue\n",
    "\n",
    "            # Проверка ID\n",
    "            if not user_id.isdigit() or len(user_id) > 8:\n",
    "                print(\"ID должен быть целым числом до 8 цифр!\")\n",
    "                continue\n",
    "            user_id = user_id.zfill(8)  # Дополнение ID до 8 знаков\n",
    "\n",
    "            # Преобразование имени и фамилии к формату\n",
    "            name = name.capitalize()\n",
    "            surname = surname.capitalize()\n",
    "\n",
    "            # Проверка уникальности ID\n",
    "            if user_id in users:\n",
    "                print(\"ID уже существует!\")\n",
    "                continue\n",
    "\n",
    "            # Сохранение данных\n",
    "            users[user_id] = (name, surname, age)\n",
    "        \n",
    "        except ValueError:\n",
    "            print(\"Неправильный формат ввода. Попробуйте снова.\")\n",
    "            continue\n",
    "\n",
    "    return users\n",
    "\n",
    "def print_user_data(users):\n",
    "    print(f\"{'ID':<10} {'Имя':<10} {'Фамилия':<10} {'Возраст':<10}\")\n",
    "    for user_id, (name, surname, age) in users.items():\n",
    "        print(f\"{user_id:<10} {name:<10} {surname:<10} {age:<10}\")\n",
    "\n",
    "# Примеры использования\n",
    "user_data = collect_user_data()\n",
    "print_user_data(user_data)\n"
   ]
  },
  {
   "cell_type": "markdown",
   "id": "23c29262",
   "metadata": {},
   "source": [
    "***"
   ]
  }
 ],
 "metadata": {
  "kernelspec": {
   "display_name": "Python 3 (ipykernel)",
   "language": "python",
   "name": "python3"
  },
  "language_info": {
   "codemirror_mode": {
    "name": "ipython",
    "version": 3
   },
   "file_extension": ".py",
   "mimetype": "text/x-python",
   "name": "python",
   "nbconvert_exporter": "python",
   "pygments_lexer": "ipython3",
   "version": "3.9.7"
  }
 },
 "nbformat": 4,
 "nbformat_minor": 5
}
