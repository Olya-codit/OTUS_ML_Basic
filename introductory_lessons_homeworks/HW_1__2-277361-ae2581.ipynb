{
 "cells": [
  {
   "cell_type": "markdown",
   "id": "49c7ec60",
   "metadata": {},
   "source": [
    "Описание/Пошаговая инструкция выполнения домашнего задания:\n",
    "\n",
    "1. Пользователь вводит пятизначное число. Программа должна зеркально отразить центральные три цифры. Первая и последняя остаются на местах.\n",
    "\n",
    "Пример:\n",
    "\n",
    "23456 -> 25436\n",
    "\n",
    "30789 -> 38709"
   ]
  },
  {
   "cell_type": "code",
   "execution_count": 1,
   "id": "90242830",
   "metadata": {},
   "outputs": [
    {
     "name": "stdout",
     "output_type": "stream",
     "text": [
      "Введите пятизначное число: 12345\n",
      "Результат: 14325\n"
     ]
    }
   ],
   "source": [
    "# Ввод числа от пользователя\n",
    "number = input(\"Введите пятизначное число: \")\n",
    "\n",
    "# Проверяем, что введенное число действительно пятизначное\n",
    "if len(number) == 5 and number.isdigit():\n",
    "    # Разделяем число на части\n",
    "    first_digit = number[0]\n",
    "    middle_digits = number[1:4]\n",
    "    last_digit = number[4]\n",
    "\n",
    "    # Переворачиваем средние три цифры\n",
    "    reversed_middle_digits = middle_digits[::-1]\n",
    "\n",
    "    # Собираем новое число\n",
    "    new_number = first_digit + reversed_middle_digits + last_digit\n",
    "\n",
    "    print(\"Результат:\", new_number)\n",
    "else:\n",
    "    print(\"Пожалуйста, введите корректное пятизначное число.\")\n"
   ]
  },
  {
   "cell_type": "markdown",
   "id": "838f7313",
   "metadata": {},
   "source": [
    "2. Отпуск. Пользователь вводит сколько дней осталось до ближайшего отпуска. Программа должна вывести количество выходных дней до отпуска, если учесть, что выходные это суббота и воскресенье, сегодня понедельник и праздники мы не учитываем.\n",
    "\n",
    "Пример:\n",
    "\n",
    "4 -> 0\n",
    "\n",
    "6 -> 1\n",
    "\n",
    "14 -> 4"
   ]
  },
  {
   "cell_type": "code",
   "execution_count": 9,
   "id": "653b142f",
   "metadata": {},
   "outputs": [
    {
     "name": "stdout",
     "output_type": "stream",
     "text": [
      "Введите количество дней до отпуска: 4\n",
      "Количество выходных до отпуска: 0\n"
     ]
    }
   ],
   "source": [
    "# Ввод количества дней до отпуска\n",
    "days_until_vacation = int(input(\"Введите количество дней до отпуска: \"))\n",
    "\n",
    "# Количество полных недель\n",
    "full_weeks = days_until_vacation // 7\n",
    "\n",
    "# Количество выходных в полных неделях\n",
    "weekend_days = full_weeks * 2\n",
    "\n",
    "# Оставшиеся дни до конца последней полной недели\n",
    "remaining_days = days_until_vacation % 7\n",
    "\n",
    "# Рассчитываем количество выходных в оставшиеся дни\n",
    "# Сегодня понедельник: если осталось >= 6 дней, то суббота и воскресенье будут выходными\n",
    "if remaining_days == 6:\n",
    "    weekend_days += 1  # Только воскресенье\n",
    "elif remaining_days > 6:\n",
    "    weekend_days += 2  # И суббота, и воскресенье\n",
    "\n",
    "print(\"Количество выходных до отпуска:\", weekend_days)\n"
   ]
  },
  {
   "cell_type": "markdown",
   "id": "f2b973ff",
   "metadata": {},
   "source": [
    "3. Пользователь вводит длину и ширину плитки шоколада, а также размер куска, который хочет отломить, программа должна вычислить - можно ли совершить подобный разлом или нет, если учесть, что ломать можно только по прямой\n",
    "\n",
    "Пример:\n",
    "\n",
    "3, 4, 6 -> True\n",
    "\n",
    "5, 7, 8 -> False\n",
    "\n",
    "4, 5, 12 -> True"
   ]
  },
  {
   "cell_type": "code",
   "execution_count": 10,
   "id": "2ccb4de1",
   "metadata": {},
   "outputs": [
    {
     "name": "stdout",
     "output_type": "stream",
     "text": [
      "Введите длину плитки шоколада: 10\n",
      "Введите ширину плитки шоколада: 5\n",
      "Введите размер куска, который хотите отломить: 1\n",
      "False\n"
     ]
    }
   ],
   "source": [
    "# Ввод размеров плитки и желаемого куска\n",
    "n = int(input(\"Введите длину плитки шоколада: \"))\n",
    "m = int(input(\"Введите ширину плитки шоколада: \"))\n",
    "k = int(input(\"Введите размер куска, который хотите отломить: \"))\n",
    "\n",
    "# Проверяем, можно ли отломить кусок размером k\n",
    "if k <= n * m and (k % n == 0 or k % m == 0):\n",
    "    print(True)\n",
    "else:\n",
    "    print(False)\n"
   ]
  },
  {
   "cell_type": "markdown",
   "id": "5ea8c939",
   "metadata": {},
   "source": [
    "4. Пользователь вводит целое положительное число, программа должна вернуть строку в виде римского числа\n",
    "\n",
    "Пример:\n",
    "\n",
    "3 -> III\n",
    "\n",
    "15 -> XV\n",
    "\n",
    "234 -> CCXXXIV\n"
   ]
  },
  {
   "cell_type": "code",
   "execution_count": 11,
   "id": "a2df27b0",
   "metadata": {},
   "outputs": [
    {
     "name": "stdout",
     "output_type": "stream",
     "text": [
      "Введите целое положительное число: 5\n",
      "V\n"
     ]
    }
   ],
   "source": [
    "def int_to_roman(number):\n",
    "    # Таблица римских чисел и их арабских эквивалентов\n",
    "    roman_numerals = [\n",
    "        (1000, 'M'),\n",
    "        (900, 'CM'),\n",
    "        (500, 'D'),\n",
    "        (400, 'CD'),\n",
    "        (100, 'C'),\n",
    "        (90, 'XC'),\n",
    "        (50, 'L'),\n",
    "        (40, 'XL'),\n",
    "        (10, 'X'),\n",
    "        (9, 'IX'),\n",
    "        (5, 'V'),\n",
    "        (4, 'IV'),\n",
    "        (1, 'I')\n",
    "    ]\n",
    "    \n",
    "    # Результирующая строка\n",
    "    result = \"\"\n",
    "    \n",
    "    # Преобразование числа в римское\n",
    "    for value, numeral in roman_numerals:\n",
    "        while number >= value:\n",
    "            result += numeral\n",
    "            number -= value\n",
    "            \n",
    "    return result\n",
    "\n",
    "# Пример использования\n",
    "number = int(input(\"Введите целое положительное число: \"))\n",
    "print(int_to_roman(number))\n"
   ]
  },
  {
   "cell_type": "markdown",
   "id": "5fccf34d",
   "metadata": {},
   "source": [
    "5. Пользователь вводит данные, проверить - являются ли они положительным вещественным числом. Не использовать встроенные функции для проверки, только методы данных и конструкцию IF. (Дополнительное задание, по желанию - проверка на отрицательные вещественные числа)\n",
    "\n",
    "\n",
    "Пример:\n",
    "5.6 -> True\n",
    "\n",
    ".78 -> True\n",
    "\n",
    ".67. -> False\n",
    "\n",
    "5 -> True"
   ]
  },
  {
   "cell_type": "code",
   "execution_count": 1,
   "id": "d0d4f4f5",
   "metadata": {},
   "outputs": [
    {
     "name": "stdout",
     "output_type": "stream",
     "text": [
      "Введите число: 5.6\n",
      "5.6 -> это положительное вещественное число.\n"
     ]
    }
   ],
   "source": [
    "def is_positive_float(input_string):\n",
    "    # Проверка, что строка не пустая\n",
    "    if len(input_string) == 0:\n",
    "        return False\n",
    "\n",
    "    # Проверка на наличие только одной точки в строке\n",
    "    if input_string.count('.') > 1:\n",
    "        return False\n",
    "\n",
    "    # Проверка, что строка содержит только цифры и точку\n",
    "    # Удаляем точку, если она есть\n",
    "    parts = input_string.split('.')\n",
    "\n",
    "    # Если число имеет формат '.123' или '123.', обе части будут разделены точкой\n",
    "    # Если есть часть до точки, она должна быть числом\n",
    "    if parts[0] and not parts[0].isdigit():\n",
    "        return False\n",
    "\n",
    "    # Если есть часть после точки, она тоже должна быть числом\n",
    "    if len(parts) > 1 and parts[1] and not parts[1].isdigit():\n",
    "        return False\n",
    "\n",
    "    # Проверка на то, что это положительное число\n",
    "    if input_string.startswith('-'):\n",
    "        return False\n",
    "\n",
    "    # Дополнительная проверка: хотя бы одна из частей содержит цифры\n",
    "    if (parts[0] == '' and parts[1] == '') or (not parts[0].isdigit() and not parts[1].isdigit()):\n",
    "        return False\n",
    "\n",
    "    # Если все условия выполнены, значит, это положительное вещественное число\n",
    "    return True\n",
    "\n",
    "# Ввод числа от пользователя\n",
    "user_input = input(\"Введите число: \")\n",
    "\n",
    "# Проверка и вывод результата\n",
    "if is_positive_float(user_input):\n",
    "    print(f\"{user_input} -> это положительное вещественное число.\")\n",
    "else:\n",
    "    print(f\"{user_input} -> это не положительное вещественное число.\")\n"
   ]
  },
  {
   "cell_type": "code",
   "execution_count": null,
   "id": "d7cb7728",
   "metadata": {},
   "outputs": [],
   "source": []
  }
 ],
 "metadata": {
  "kernelspec": {
   "display_name": "Python 3 (ipykernel)",
   "language": "python",
   "name": "python3"
  },
  "language_info": {
   "codemirror_mode": {
    "name": "ipython",
    "version": 3
   },
   "file_extension": ".py",
   "mimetype": "text/x-python",
   "name": "python",
   "nbconvert_exporter": "python",
   "pygments_lexer": "ipython3",
   "version": "3.9.7"
  }
 },
 "nbformat": 4,
 "nbformat_minor": 5
}
