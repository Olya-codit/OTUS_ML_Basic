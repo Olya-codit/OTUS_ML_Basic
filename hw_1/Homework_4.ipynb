{
 "cells": [
  {
   "cell_type": "markdown",
   "id": "0795d6d5",
   "metadata": {},
   "source": [
    "## Задача 1\n",
    "$N$ хоббитов делят $K$ кусков эльфийского хлеба поровну, не делящийся нацело остаток остается в корзинке у Сэма. Напишите функцию, которая принимает на вход параметры $N$ и $K$ и возвращает два числа: $x$ - cколько кусков эльфиского хлеба достанется каждому хоббиту, и $y$ - сколько кусков остаётся в корзинке."
   ]
  },
  {
   "cell_type": "code",
   "execution_count": 2,
   "id": "7d06ab37",
   "metadata": {},
   "outputs": [],
   "source": [
    "def share_bread(N, K):\n",
    "    # Вычисление количества кусков на человека\n",
    "    x = K // N\n",
    "    # Вычисление оставшихся кусков\n",
    "    y = K % N\n",
    "    return x, y"
   ]
  },
  {
   "cell_type": "code",
   "execution_count": 3,
   "id": "4bdec719",
   "metadata": {},
   "outputs": [],
   "source": [
    "# Проверка\n",
    "assert share_bread(N=3, K=14) == (4, 2)"
   ]
  },
  {
   "cell_type": "code",
   "execution_count": 4,
   "id": "6849aee4",
   "metadata": {},
   "outputs": [
    {
     "data": {
      "text/plain": [
       "(4, 2)"
      ]
     },
     "execution_count": 4,
     "metadata": {},
     "output_type": "execute_result"
    }
   ],
   "source": [
    "share_bread(N=3, K=14)"
   ]
  },
  {
   "cell_type": "markdown",
   "id": "1a325580",
   "metadata": {},
   "source": [
    "## Задача 2\n",
    "\n",
    "В копях Мории хоббиты нашли стену, на которой высечены разные натуральные числа. Согласно древним сказаниям, это даты сражений. Хоббиты знают, что сражения происходили только по високосным годам. Помогите хоббитам определить, является ли год с данным числом датой великого сражения. Если это так, то верните строку \"YOU SHALL PASS\", иначе верните \"YOU SHALL NOT PASS\". Напомним, что в соответствии с хоббитским календарем, год является високосным, если его номер кратен 4, но не кратен 100, а также если он кратен 400."
   ]
  },
  {
   "cell_type": "code",
   "execution_count": 5,
   "id": "1fd2e5d5",
   "metadata": {},
   "outputs": [],
   "source": [
    "def leap_year(year):\n",
    "    if (year % 4 == 0 and year % 100 != 0) or (year % 400 == 0):\n",
    "        return 'YOU SHALL PASS'\n",
    "    else:\n",
    "        return 'YOU SHALL NOT PASS'"
   ]
  },
  {
   "cell_type": "code",
   "execution_count": 6,
   "id": "80340d2d",
   "metadata": {},
   "outputs": [],
   "source": [
    "# Проверка\n",
    "assert leap_year(5) == 'YOU SHALL NOT PASS'\n",
    "assert leap_year(2000) == 'YOU SHALL PASS'"
   ]
  },
  {
   "cell_type": "code",
   "execution_count": 7,
   "id": "4a25b472",
   "metadata": {},
   "outputs": [
    {
     "data": {
      "text/plain": [
       "'YOU SHALL PASS'"
      ]
     },
     "execution_count": 7,
     "metadata": {},
     "output_type": "execute_result"
    }
   ],
   "source": [
    "leap_year(2000) "
   ]
  },
  {
   "cell_type": "code",
   "execution_count": 8,
   "id": "b39bdff7",
   "metadata": {},
   "outputs": [
    {
     "data": {
      "text/plain": [
       "'YOU SHALL NOT PASS'"
      ]
     },
     "execution_count": 8,
     "metadata": {},
     "output_type": "execute_result"
    }
   ],
   "source": [
    "leap_year(5)"
   ]
  },
  {
   "cell_type": "markdown",
   "id": "629650c7",
   "metadata": {},
   "source": [
    "## Задача 3\n",
    "<img src=\"http://i0.kym-cdn.com/photos/images/original/001/187/255/5e9.gif\" width=300>\n",
    "Для могущественного магического ритуала Гендальфу необходимо быстро подсчитывать площадь своего амулета, который умеет менять размеры. Известно, что амулет имеет форму треугольника и Гендальф знает длину каждой из сторон. Напишите функцию, которая считает площадь амулета по трем сторонам.  \n",
    "\n",
    "Подсказка: используйте формулу Герона\n",
    "$$ S = \\sqrt{p(p-a)(p-b)(p-c)} $$\n",
    "$$ p = \\frac{a + b + c}{2}$$\n"
   ]
  },
  {
   "cell_type": "code",
   "execution_count": 9,
   "id": "b250563a",
   "metadata": {},
   "outputs": [],
   "source": [
    "import math\n",
    "\n",
    "def amulet_area(a, b, c):\n",
    "    s = (a + b + c) / 2  # Полупериметр\n",
    "    S = math.sqrt(s * (s - a) * (s - b) * (s - c))  # Формула Герона\n",
    "    return S"
   ]
  },
  {
   "cell_type": "code",
   "execution_count": 10,
   "id": "2383a55a",
   "metadata": {},
   "outputs": [],
   "source": [
    "# Проверка\n",
    "assert amulet_area(3, 4, 5) == 6"
   ]
  },
  {
   "cell_type": "code",
   "execution_count": 11,
   "id": "f2e81b2f",
   "metadata": {},
   "outputs": [
    {
     "data": {
      "text/plain": [
       "6.0"
      ]
     },
     "execution_count": 11,
     "metadata": {},
     "output_type": "execute_result"
    }
   ],
   "source": [
    "amulet_area(3, 4, 5)"
   ]
  },
  {
   "cell_type": "markdown",
   "id": "22b0faef",
   "metadata": {},
   "source": [
    "## Задача 4\n",
    "\n",
    "Хоббиты собираются пешком идти до Мордора и им нужно подсчитать расстояние, которое им предстоит пройти. Хоббиты смогли вспомнить сразу несколько метрик расстояния: евклидово, манхэттена и косинусное, так что ваша задача - напистаь функцию под каждую из них. Важное условие - используйте только базовые функции numpy для решения.\n",
    "\n",
    "\n",
    "* Евклидово расстояние\n",
    "$$ d(a, b) = \\sqrt{\\sum_i (a_i - b_i)^2} $$\n",
    "* Расстояние Манхэттена\n",
    "$$ d(a, b) = \\sum_i |a_i - b_i| $$\n",
    "* Косинусное расстояние\n",
    "$$ d(a, b) = 1 - \\frac{a^\\top b}{||a||_2\\cdot||b||_2}$$"
   ]
  },
  {
   "cell_type": "code",
   "execution_count": 12,
   "id": "554b2442",
   "metadata": {},
   "outputs": [],
   "source": [
    "import numpy as np\n",
    "\n",
    "def cal_euclidean(a, b):\n",
    "    return np.sqrt(np.sum((a - b) ** 2))\n",
    "\n",
    "def cal_manhattan(a, b):\n",
    "    return np.sum(np.abs(a - b))\n",
    "\n",
    "def cal_cosine(a, b):\n",
    "    return np.dot(a, b) / (np.linalg.norm(a) * np.linalg.norm(b))"
   ]
  },
  {
   "cell_type": "code",
   "execution_count": 13,
   "id": "af097543",
   "metadata": {},
   "outputs": [
    {
     "name": "stdout",
     "output_type": "stream",
     "text": [
      "25.199206336708304\n",
      "65\n",
      "-0.25282424700798783\n"
     ]
    }
   ],
   "source": [
    "a = np.random.randint(-10, 10, size=10)\n",
    "b = np.random.randint(-10, 10, size=10)\n",
    "print(cal_euclidean(a, b))\n",
    "print(cal_manhattan(a, b))\n",
    "print(cal_cosine(a, b))"
   ]
  },
  {
   "cell_type": "markdown",
   "id": "5e24ac20",
   "metadata": {},
   "source": [
    "Создайте случайный array (`np.random.rand()`) длинной 100. Преобразуйте его так, чтобы\n",
    "* Максимальный элемент(ы) был равен 1\n",
    "* Минимальный элемент(ы) был равен 0\n",
    "* Остальные элементы в итнтервале от 0 до 1 остаются прежними"
   ]
  },
  {
   "cell_type": "code",
   "execution_count": 14,
   "id": "e9d2ad1e",
   "metadata": {},
   "outputs": [
    {
     "name": "stdout",
     "output_type": "stream",
     "text": [
      "9 -9\n",
      "[-9  5  1  1 -8 -3 -4 -9 -1 -7  3 -4  9 -4  9  7 -3  9  6 -7]\n"
     ]
    }
   ],
   "source": [
    "my_array = np.random.randint(-10, 10, size=20)  # Генерация массива из 20 случайных чисел\n",
    "print(np.max(my_array), np.min(my_array))\n",
    "print(my_array)"
   ]
  },
  {
   "cell_type": "markdown",
   "id": "66c7d208",
   "metadata": {},
   "source": [
    "Создайте array размером $5 \\times 6$ с целыми числами в интервале [0,50]. Напечатайте колонку, которая содержит максимальный элемент полученной матрицы "
   ]
  },
  {
   "cell_type": "code",
   "execution_count": 15,
   "id": "e99e2f43",
   "metadata": {},
   "outputs": [
    {
     "name": "stdout",
     "output_type": "stream",
     "text": [
      "Shape:  (5, 5)\n",
      "Array\n",
      "[[  2  -4   6  -3   8]\n",
      " [  6   9   0   2   6]\n",
      " [ -5  -7   7  -8  -7]\n",
      " [  6  -2  -3  -9  -6]\n",
      " [ -9 -10  -9  -7  -8]]\n",
      "Selected column: [ 6  0  7 -3 -9]\n"
     ]
    }
   ],
   "source": [
    "my_array = np.random.randint(-10, 10, size=(5, 5))  # Матрица 5x5\n",
    "selected_column = my_array[:, 2]  # Выбор 3-го столбца\n",
    "print('Shape: ', my_array.shape)\n",
    "print('Array')\n",
    "print(my_array)\n",
    "print('Selected column:', selected_column)"
   ]
  },
  {
   "cell_type": "markdown",
   "id": "8dab0bb8",
   "metadata": {},
   "source": [
    "Напишите функцию, которая принимает на вохд матрицу (array) X и возвращает все её уникальные строки в виде новой матрицы."
   ]
  },
  {
   "cell_type": "code",
   "execution_count": 16,
   "id": "27eb11f5",
   "metadata": {},
   "outputs": [],
   "source": [
    "def get_unique_rows(X):\n",
    "    # Используем numpy для получения уникальных строк\n",
    "    return np.unique(X, axis=0)"
   ]
  },
  {
   "cell_type": "code",
   "execution_count": 17,
   "id": "f0f0ef3e",
   "metadata": {},
   "outputs": [
    {
     "name": "stdout",
     "output_type": "stream",
     "text": [
      "Original matrix:\n",
      "[[4 5 4]\n",
      " [4 5 4]\n",
      " [4 5 4]\n",
      " [5 4 5]\n",
      " [4 4 4]\n",
      " [4 5 5]\n",
      " [4 4 4]\n",
      " [4 5 4]\n",
      " [4 4 5]\n",
      " [4 4 5]]\n"
     ]
    }
   ],
   "source": [
    "X = np.random.randint(4, 6, size=(10,3))\n",
    "print(\"Original matrix:\")\n",
    "print(X)"
   ]
  },
  {
   "cell_type": "code",
   "execution_count": 18,
   "id": "abb3abe9",
   "metadata": {},
   "outputs": [
    {
     "name": "stdout",
     "output_type": "stream",
     "text": [
      "Unique rows:\n",
      "[[4 4 4]\n",
      " [4 4 5]\n",
      " [4 5 4]\n",
      " [4 5 5]\n",
      " [5 4 5]]\n"
     ]
    }
   ],
   "source": [
    "print(\"Unique rows:\")\n",
    "print(get_unique_rows(X))"
   ]
  }
 ],
 "metadata": {
  "kernelspec": {
   "display_name": "Python 3 (ipykernel)",
   "language": "python",
   "name": "python3"
  },
  "language_info": {
   "codemirror_mode": {
    "name": "ipython",
    "version": 3
   },
   "file_extension": ".py",
   "mimetype": "text/x-python",
   "name": "python",
   "nbconvert_exporter": "python",
   "pygments_lexer": "ipython3",
   "version": "3.9.7"
  }
 },
 "nbformat": 4,
 "nbformat_minor": 5
}
